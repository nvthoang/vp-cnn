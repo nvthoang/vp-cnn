{
 "cells": [
  {
   "cell_type": "code",
   "execution_count": 8,
   "id": "dd102a6e",
   "metadata": {},
   "outputs": [
    {
     "ename": "ImportError",
     "evalue": "cannot import name 'vinilla_cnn' from 'models.vinilla_cnn' (/home/hoang/vp-tasks/vp-cnn/models/vinilla_cnn.py)",
     "output_type": "error",
     "traceback": [
      "\u001b[0;31m---------------------------------------------------------------------------\u001b[0m",
      "\u001b[0;31mImportError\u001b[0m                               Traceback (most recent call last)",
      "Input \u001b[0;32mIn [8]\u001b[0m, in \u001b[0;36m<cell line: 5>\u001b[0;34m()\u001b[0m\n\u001b[1;32m      2\u001b[0m \u001b[38;5;28;01mimport\u001b[39;00m \u001b[38;5;21;01mnumpy\u001b[39;00m \u001b[38;5;28;01mas\u001b[39;00m \u001b[38;5;21;01mnp\u001b[39;00m\n\u001b[1;32m      3\u001b[0m \u001b[38;5;28;01mimport\u001b[39;00m \u001b[38;5;21;01mtorch\u001b[39;00m\n\u001b[0;32m----> 5\u001b[0m \u001b[38;5;28;01mfrom\u001b[39;00m \u001b[38;5;21;01mmodels\u001b[39;00m\u001b[38;5;21;01m.\u001b[39;00m\u001b[38;5;21;01mvinilla_cnn\u001b[39;00m \u001b[38;5;28;01mimport\u001b[39;00m vinilla_cnn\n",
      "\u001b[0;31mImportError\u001b[0m: cannot import name 'vinilla_cnn' from 'models.vinilla_cnn' (/home/hoang/vp-tasks/vp-cnn/models/vinilla_cnn.py)"
     ]
    }
   ],
   "source": [
    "import rasterio\n",
    "import numpy as np\n",
    "import torch\n",
    "\n",
    "from models.vanilla_cnn import vanilla_cnn"
   ]
  },
  {
   "cell_type": "code",
   "execution_count": 6,
   "id": "1108b828",
   "metadata": {},
   "outputs": [
    {
     "data": {
      "text/plain": [
       "<module 'models.vinilla_cnn' from '/home/hoang/vp-tasks/vp-cnn/models/vinilla_cnn.py'>"
      ]
     },
     "execution_count": 6,
     "metadata": {},
     "output_type": "execute_result"
    }
   ],
   "source": [
    "vinilla_cnn"
   ]
  },
  {
   "cell_type": "code",
   "execution_count": 5,
   "id": "a017cd25",
   "metadata": {},
   "outputs": [
    {
     "ename": "TypeError",
     "evalue": "'module' object is not callable",
     "output_type": "error",
     "traceback": [
      "\u001b[0;31m---------------------------------------------------------------------------\u001b[0m",
      "\u001b[0;31mTypeError\u001b[0m                                 Traceback (most recent call last)",
      "Input \u001b[0;32mIn [5]\u001b[0m, in \u001b[0;36m<cell line: 1>\u001b[0;34m()\u001b[0m\n\u001b[0;32m----> 1\u001b[0m model \u001b[38;5;241m=\u001b[39m \u001b[43mvinilla_cnn\u001b[49m\u001b[43m(\u001b[49m\u001b[43mnum_features\u001b[49m\u001b[38;5;241;43m=\u001b[39;49m\u001b[38;5;241;43m64\u001b[39;49m\u001b[43m)\u001b[49m\n",
      "\u001b[0;31mTypeError\u001b[0m: 'module' object is not callable"
     ]
    }
   ],
   "source": [
    "model = vinilla_cnn(num_features=64)"
   ]
  },
  {
   "cell_type": "code",
   "execution_count": 36,
   "id": "4f724a4a",
   "metadata": {},
   "outputs": [],
   "source": [
    "a=np.load(\"../vp-pix2pix/data/input_imgs_train.npy\", allow_pickle=True)"
   ]
  },
  {
   "cell_type": "code",
   "execution_count": 58,
   "id": "bd05e788",
   "metadata": {},
   "outputs": [],
   "source": [
    "x=np.stack([a[0][0], a[1][0], a[2][0], a[3][0]])"
   ]
  },
  {
   "cell_type": "code",
   "execution_count": 59,
   "id": "4e13dc1f",
   "metadata": {},
   "outputs": [],
   "source": [
    "x = torch.Tensor(x)"
   ]
  },
  {
   "cell_type": "code",
   "execution_count": 60,
   "id": "92c70150",
   "metadata": {},
   "outputs": [],
   "source": [
    "x=x.unsqueeze(0)"
   ]
  },
  {
   "cell_type": "code",
   "execution_count": null,
   "id": "78cf3c0e",
   "metadata": {},
   "outputs": [],
   "source": [
    "model(x)"
   ]
  },
  {
   "cell_type": "code",
   "execution_count": 4,
   "id": "de0e7c1c",
   "metadata": {},
   "outputs": [
    {
     "ename": "NameError",
     "evalue": "name 'vanilla_cnn' is not defined",
     "output_type": "error",
     "traceback": [
      "\u001b[0;31m---------------------------------------------------------------------------\u001b[0m",
      "\u001b[0;31mNameError\u001b[0m                                 Traceback (most recent call last)",
      "Input \u001b[0;32mIn [4]\u001b[0m, in \u001b[0;36m<cell line: 1>\u001b[0;34m()\u001b[0m\n\u001b[0;32m----> 1\u001b[0m a\u001b[38;5;241m=\u001b[39m\u001b[43mvanilla_cnn\u001b[49m()\n",
      "\u001b[0;31mNameError\u001b[0m: name 'vanilla_cnn' is not defined"
     ]
    }
   ],
   "source": [
    "a=vanilla_cnn()"
   ]
  },
  {
   "cell_type": "code",
   "execution_count": 5,
   "id": "bac0b9aa",
   "metadata": {},
   "outputs": [],
   "source": [
    "import torch\n",
    "import torch.nn as nn\n",
    "\n",
    "\n",
    "class vanilla_cnn(nn.Module):   \n",
    "    def __init__(self, \n",
    "                 in_channels:int=4, \n",
    "                 out_channels:int=1,\n",
    "                 num_features:int=256,\n",
    "                 kernel_size:int=3, \n",
    "                 stride:str=1, \n",
    "                 padding:str=1,\n",
    "                 pooling_size:tuple=(1200, 1200)):\n",
    "        super(vanilla_cnn, self).__init__()\n",
    "        cnn1 = cnn_block(in_channels, num_features, kernel_size, stride, padding, pooling_size)\n",
    "        cnn2 = cnn_block(num_features*1, num_features*2, kernel_size, stride, padding, pooling_size)\n",
    "        cnn3 = cnn_block(num_features*2, num_features*4, kernel_size, stride, padding, pooling_size)\n",
    "        cnn4 = cnn_block(num_features*4, num_features*8, kernel_size, stride, padding, pooling_size)\n",
    "        cnn5 = cnn_block(num_features*8, num_features*8, kernel_size, stride, padding, pooling_size)\n",
    "        cnn6 = cnn_block(num_features*8, num_features*4, kernel_size, stride, padding, pooling_size)\n",
    "        cnn7 = cnn_block(num_features*4, num_features*2, kernel_size, stride, padding, pooling_size)\n",
    "        cnn8 = cnn_block(num_features*2, num_features*1, kernel_size, stride, padding, pooling_size)\n",
    "        cnn9 = cnn_block(num_features*1, out_channels, kernel_size, stride, padding, pooling_size)\n",
    "        layers = [cnn1, cnn2, cnn3, cnn4, cnn5, cnn6, cnn7, cnn8, cnn9]\n",
    "        self.model = nn.Sequential(*layers)\n",
    "\n",
    "    def forward(self, x):\n",
    "        return self.model(x)\n",
    "\n",
    "\n",
    "class cnn_block(nn.Module):   \n",
    "    def __init__(self, in_channels:int=4, \n",
    "                 out_channels:int=256, \n",
    "                 kernel_size:int=3, \n",
    "                 stride:str=1, \n",
    "                 padding:str=1,\n",
    "                 pooling_size:tuple=(1200, 1200)):\n",
    "        super(cnn_block, self).__init__()\n",
    "        self.model = nn.Sequential(nn.Conv2d(in_channels, out_channels, kernel_size, stride, padding),\n",
    "                                   nn.BatchNorm2d(out_channels),\n",
    "                                   nn.AdaptiveAvgPool2d(pooling_size),\n",
    "                                   nn.LeakyReLU(0.2))\n",
    "\n",
    "    def forward(self, x):\n",
    "        return self.model(x)"
   ]
  },
  {
   "cell_type": "code",
   "execution_count": 6,
   "id": "02ccc1b6",
   "metadata": {},
   "outputs": [
    {
     "data": {
      "text/plain": [
       "vanilla_cnn(\n",
       "  (model): Sequential(\n",
       "    (0): cnn_block(\n",
       "      (model): Sequential(\n",
       "        (0): Conv2d(4, 256, kernel_size=(3, 3), stride=(1, 1), padding=(1, 1))\n",
       "        (1): BatchNorm2d(256, eps=1e-05, momentum=0.1, affine=True, track_running_stats=True)\n",
       "        (2): AdaptiveAvgPool2d(output_size=(1200, 1200))\n",
       "        (3): LeakyReLU(negative_slope=0.2)\n",
       "      )\n",
       "    )\n",
       "    (1): cnn_block(\n",
       "      (model): Sequential(\n",
       "        (0): Conv2d(256, 512, kernel_size=(3, 3), stride=(1, 1), padding=(1, 1))\n",
       "        (1): BatchNorm2d(512, eps=1e-05, momentum=0.1, affine=True, track_running_stats=True)\n",
       "        (2): AdaptiveAvgPool2d(output_size=(1200, 1200))\n",
       "        (3): LeakyReLU(negative_slope=0.2)\n",
       "      )\n",
       "    )\n",
       "    (2): cnn_block(\n",
       "      (model): Sequential(\n",
       "        (0): Conv2d(512, 1024, kernel_size=(3, 3), stride=(1, 1), padding=(1, 1))\n",
       "        (1): BatchNorm2d(1024, eps=1e-05, momentum=0.1, affine=True, track_running_stats=True)\n",
       "        (2): AdaptiveAvgPool2d(output_size=(1200, 1200))\n",
       "        (3): LeakyReLU(negative_slope=0.2)\n",
       "      )\n",
       "    )\n",
       "    (3): cnn_block(\n",
       "      (model): Sequential(\n",
       "        (0): Conv2d(1024, 2048, kernel_size=(3, 3), stride=(1, 1), padding=(1, 1))\n",
       "        (1): BatchNorm2d(2048, eps=1e-05, momentum=0.1, affine=True, track_running_stats=True)\n",
       "        (2): AdaptiveAvgPool2d(output_size=(1200, 1200))\n",
       "        (3): LeakyReLU(negative_slope=0.2)\n",
       "      )\n",
       "    )\n",
       "    (4): cnn_block(\n",
       "      (model): Sequential(\n",
       "        (0): Conv2d(2048, 2048, kernel_size=(3, 3), stride=(1, 1), padding=(1, 1))\n",
       "        (1): BatchNorm2d(2048, eps=1e-05, momentum=0.1, affine=True, track_running_stats=True)\n",
       "        (2): AdaptiveAvgPool2d(output_size=(1200, 1200))\n",
       "        (3): LeakyReLU(negative_slope=0.2)\n",
       "      )\n",
       "    )\n",
       "    (5): cnn_block(\n",
       "      (model): Sequential(\n",
       "        (0): Conv2d(2048, 1024, kernel_size=(3, 3), stride=(1, 1), padding=(1, 1))\n",
       "        (1): BatchNorm2d(1024, eps=1e-05, momentum=0.1, affine=True, track_running_stats=True)\n",
       "        (2): AdaptiveAvgPool2d(output_size=(1200, 1200))\n",
       "        (3): LeakyReLU(negative_slope=0.2)\n",
       "      )\n",
       "    )\n",
       "    (6): cnn_block(\n",
       "      (model): Sequential(\n",
       "        (0): Conv2d(1024, 512, kernel_size=(3, 3), stride=(1, 1), padding=(1, 1))\n",
       "        (1): BatchNorm2d(512, eps=1e-05, momentum=0.1, affine=True, track_running_stats=True)\n",
       "        (2): AdaptiveAvgPool2d(output_size=(1200, 1200))\n",
       "        (3): LeakyReLU(negative_slope=0.2)\n",
       "      )\n",
       "    )\n",
       "    (7): cnn_block(\n",
       "      (model): Sequential(\n",
       "        (0): Conv2d(512, 256, kernel_size=(3, 3), stride=(1, 1), padding=(1, 1))\n",
       "        (1): BatchNorm2d(256, eps=1e-05, momentum=0.1, affine=True, track_running_stats=True)\n",
       "        (2): AdaptiveAvgPool2d(output_size=(1200, 1200))\n",
       "        (3): LeakyReLU(negative_slope=0.2)\n",
       "      )\n",
       "    )\n",
       "    (8): cnn_block(\n",
       "      (model): Sequential(\n",
       "        (0): Conv2d(256, 1, kernel_size=(3, 3), stride=(1, 1), padding=(1, 1))\n",
       "        (1): BatchNorm2d(1, eps=1e-05, momentum=0.1, affine=True, track_running_stats=True)\n",
       "        (2): AdaptiveAvgPool2d(output_size=(1200, 1200))\n",
       "        (3): LeakyReLU(negative_slope=0.2)\n",
       "      )\n",
       "    )\n",
       "  )\n",
       ")"
      ]
     },
     "execution_count": 6,
     "metadata": {},
     "output_type": "execute_result"
    }
   ],
   "source": [
    "vanilla_cnn()"
   ]
  },
  {
   "cell_type": "code",
   "execution_count": null,
   "id": "d60df3ed",
   "metadata": {},
   "outputs": [],
   "source": []
  }
 ],
 "metadata": {
  "kernelspec": {
   "display_name": "Python 3 (ipykernel)",
   "language": "python",
   "name": "python3"
  },
  "language_info": {
   "codemirror_mode": {
    "name": "ipython",
    "version": 3
   },
   "file_extension": ".py",
   "mimetype": "text/x-python",
   "name": "python",
   "nbconvert_exporter": "python",
   "pygments_lexer": "ipython3",
   "version": "3.10.5"
  }
 },
 "nbformat": 4,
 "nbformat_minor": 5
}
